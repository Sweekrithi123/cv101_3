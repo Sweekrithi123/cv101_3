{
 "cells": [
  {
   "cell_type": "code",
   "execution_count": null,
   "source": [
    "# Import libraries\r\n",
    "import cv2\r\n",
    "import numpy as np\r\n",
    "import matplotlib.pyplot as plt\r\n",
    "from PIL import Image \r\n",
    "%matplotlib inline\r\n",
    "import matplotlib\r\n",
    "matplotlib.rcParams['figure.figsize'] = (9.0, 9.0)\r\n",
    "from IPython.display import Image"
   ],
   "outputs": [],
   "metadata": {}
  },
  {
   "cell_type": "code",
   "execution_count": null,
   "source": [
    "# Read in an image\r\n",
    "image = cv2.imread(\"images/Apollo_11_Launch.jpg\", cv2.IMREAD_COLOR)\r\n",
    "\r\n",
    "# Display the original image\r\n",
    "plt.imshow(image[:,:,::-1])"
   ],
   "outputs": [],
   "metadata": {
    "scrolled": true
   }
  },
  {
   "cell_type": "markdown",
   "source": [
    "## <font style=\"color:black\">Drawing a Line</font>\n",
    "\n",
    "\n",
    "Let's start off by drawing a line on an image. We will use cv2.line function for this.\n",
    "\n",
    "### <font style=\"color:rgb(8,133,37)\">Function Syntx</font>\n",
    "``` python\n",
    "    img = cv2.line(img, pt1, pt2, color[, thickness[, lineType[, shift]]])\n",
    "```\n",
    "\n",
    "`img`: The output image that has been annotated.\n",
    "\n",
    "The function has **4 required arguments**:\n",
    "\n",
    "1. `img`:   Image on which we will draw a line\n",
    "2. `pt1`:   First point(x,y location) of the line segment\n",
    "3. `pt2`:   Second point of the line segment\n",
    "4. `color`: Color of the line which will be drawn\n",
    "    \n",
    "Other optional arguments that are important for us to know include:\n",
    "\n",
    "1. `thickness`: Integer specifying the line thickness. Default value is 1.\n",
    "2. `lineType`:  Type of the line. Default value is 8 which stands for an 8-connected line. Usually, cv2.LINE_AA (antialiased or smooth line) is used for the lineType.\n",
    "    \n",
    "### <font style=\"color:rgb(8,133,37)\">OpenCV Documentation</font>\n",
    "\n",
    "**`line:`**https://docs.opencv.org/4.5.1/d6/d6e/group__imgproc__draw.html#ga7078a9fae8c7e7d13d24dac2520ae4a2\n",
    "\n",
    "Let's see an example of this."
   ],
   "metadata": {}
  },
  {
   "cell_type": "code",
   "execution_count": null,
   "source": [
    "imageLine = image.copy()\r\n",
    "\r\n",
    "# The line starts from (200,100) and ends at (400,100)\r\n",
    "# The color of the line is YELLOW (Recall that OpenCV uses BGR format)\r\n",
    "# Thickness of line is 5px\r\n",
    "# Linetype is cv2.LINE_AA\r\n",
    "\r\n",
    "cv2.line(imageLine, (200, 100), (400, 100), (0, 255, 255), thickness=5, lineType=cv2.LINE_AA);\r\n",
    "\r\n",
    "# Display the image\r\n",
    "plt.imshow(imageLine[:,:,::-1])"
   ],
   "outputs": [],
   "metadata": {
    "slideshow": {
     "slide_type": "-"
    }
   }
  },
  {
   "cell_type": "markdown",
   "source": [
    "## <font style=\"color:black\">Drawing a Circle</font>\n",
    "\n",
    "\n",
    "Let's start off by drawing a circle on an image. We will use cv2.circle function for this.\n",
    "\n",
    "### <font style=\"color:rgb(8,133,37)\">Functional syntx</font>\n",
    "``` python\n",
    "img = cv2.circle(img, center, radius, color[, thickness[, lineType[, shift]]])\n",
    "```\n",
    "\n",
    "`img`: The output image that has been annotated.\n",
    "\n",
    "The function has **4 required arguments**:\n",
    "\n",
    "1. `img`:    Image on which we will draw a line\n",
    "2. `center`: Center of the circle\n",
    "3. `radius`: Radius of the circle\n",
    "4. `color`:  Color of the circle which will be drawn\n",
    "    \n",
    "Next, let's check out the (optional) arguments which we are going to use quite extensively.\n",
    "\n",
    "1. `thickness`: Thickness of the circle outline (if positive). \n",
    "If a negative value is supplied for this argument, it will result in a filled circle.\n",
    "2. `lineType`:  Type of the circle boundary. This is exact same as lineType argument in **cv2.line**\n",
    "    \n",
    "### <font style=\"color:rgb(8,133,37)\">OpenCV Documentation</font>\n",
    "    \n",
    "**`circle:`** https://docs.opencv.org/4.5.1/d6/d6e/group__imgproc__draw.html#gaf10604b069374903dbd0f0488cb43670\n",
    "\n",
    "Let's see an example of this."
   ],
   "metadata": {}
  },
  {
   "cell_type": "code",
   "execution_count": null,
   "source": [
    "# Draw a circle\r\n",
    "imageCircle = image.copy()\r\n",
    "\r\n",
    "cv2.circle(imageCircle, (900,500), 100, (0, 0, 255), thickness=5, lineType=cv2.LINE_AA);\r\n",
    "\r\n",
    "# Display the image\r\n",
    "plt.imshow(imageCircle[:,:,::-1])"
   ],
   "outputs": [],
   "metadata": {}
  },
  {
   "cell_type": "markdown",
   "source": [
    "## <font style=\"color:black\">Drawing a Rectangle</font>\n",
    "\n",
    "\n",
    "We will use **cv2.rectangle** function to draw a rectangle on an image. The function syntax is as follows.\n",
    "\n",
    "### <font style=\"color:rgb(8,133,37)\">Functional syntx</font>\n",
    "\n",
    "    img = cv2.rectangle(img, pt1, pt2, color[, thickness[, lineType[, shift]]])\n",
    "\n",
    "`img`: The output image that has been annotated.\n",
    "\n",
    "The function has **4 required arguments**:\n",
    "\n",
    "1. `img`: Image on which the rectangle is to be drawn.\n",
    "2. `pt1`: Vertex of the rectangle. Usually we use the **top-left vertex** here.\n",
    "3. `pt2`: Vertex of the rectangle opposite to pt1. Usually we use the **bottom-right**              vertex here.\n",
    "4. `color`: Rectangle color\n",
    "    \n",
    "Next, let's check out the (optional) arguments which we are going to use quite extensively.\n",
    "\n",
    "1. `thickness`: Thickness of the circle outline (if positive). \n",
    "    If a negative value is supplied for this argument, it will result in a filled rectangle.\n",
    "2. `lineType`: Type of the circle boundary. This is exact same as lineType argument in \n",
    "    **cv2.line**\n",
    "    \n",
    "### <font style=\"color:rgb(8,133,37)\">OpenCV Documentation Links</font>\n",
    "\n",
    "**`rectangle:`**https://docs.opencv.org/4.5.1/d6/d6e/group__imgproc__draw.html#ga07d2f74cadcf8e305e810ce8eed13bc9\n",
    "    \n",
    "Let's see an example of this."
   ],
   "metadata": {}
  },
  {
   "cell_type": "code",
   "execution_count": null,
   "source": [
    "# Draw a rectangle (thickness is a positive integer)\r\n",
    "imageRectangle = image.copy()\r\n",
    "\r\n",
    "cv2.rectangle(imageRectangle, (500, 100), (700,600), (255, 0, 255), thickness=5, lineType=cv2.LINE_8);\r\n",
    "\r\n",
    "# Display the image\r\n",
    "plt.imshow(imageRectangle[:,:,::-1])"
   ],
   "outputs": [],
   "metadata": {
    "slideshow": {
     "slide_type": "slide"
    }
   }
  },
  {
   "cell_type": "markdown",
   "source": [
    "## <font style=\"color:black\">Adding Text</font>\n",
    "\n",
    "\n",
    "Finally, let's see how we can write some text on an image using **cv2.putText** function.\n",
    "\n",
    "### <font style=\"color:rgb(8,133,37)\">Functional syntx</font>\n",
    "\n",
    "    img = cv2.putText(img, text, org, fontFace, fontScale, color[, thickness[, lineType[, bottomLeftOrigin]]])\n",
    "\n",
    "`img`: The output image that has been annotated.\n",
    "\n",
    "The function has **6 required arguments**:\n",
    "\n",
    "1. `img`: Image on which the text has to be written.\n",
    "2. `text`: Text string to be written.\n",
    "3. `org`: Bottom-left corner of the text string in the image.\n",
    "4. `fontFace`: Font type\n",
    "5. `fontScale`: Font scale factor that is multiplied by the font-specific base size.\n",
    "6. `color`: Font color\n",
    " \n",
    "Other optional arguments that are important for us to know include:\n",
    "\n",
    "1. `thickness`: Integer specifying the line thickness for the text. Default value is 1.\n",
    "2. `lineType`: Type of the line. Default value is 8 which stands for an 8-connected line. Usually, cv2.LINE_AA (antialiased or smooth line) is used for the lineType.\n",
    "\n",
    "### <font style=\"color:rgb(8,133,37)\">OpenCV Documentation</font>\n",
    "\n",
    "**`putText:`**https://docs.opencv.org/4.5.1/d6/d6e/group__imgproc__draw.html#ga5126f47f883d730f633d74f07456c576\n",
    "    \n",
    "Let's see an example of this."
   ],
   "metadata": {}
  },
  {
   "cell_type": "code",
   "execution_count": null,
   "source": [
    "imageText = image.copy()\r\n",
    "text = \"Apollo 11 Saturn V Launch, July 16, 1969\"\r\n",
    "fontScale = 2.3\r\n",
    "fontFace = cv2.FONT_HERSHEY_PLAIN\r\n",
    "fontColor = (0, 255, 0)\r\n",
    "fontThickness = 2\r\n",
    "\r\n",
    "cv2.putText(imageText, text, (200, 700), fontFace, fontScale, fontColor, fontThickness, cv2.LINE_AA);\r\n",
    "\r\n",
    "# Display the image\r\n",
    "plt.imshow(imageText[:,:,::-1])"
   ],
   "outputs": [],
   "metadata": {}
  }
 ],
 "metadata": {
  "celltoolbar": "Slideshow",
  "kernelspec": {
   "name": "python3",
   "display_name": "Python 3.9.6 64-bit"
  },
  "language_info": {
   "codemirror_mode": {
    "name": "ipython",
    "version": 3
   },
   "file_extension": ".py",
   "mimetype": "text/x-python",
   "name": "python",
   "nbconvert_exporter": "python",
   "pygments_lexer": "ipython3",
   "version": "3.9.6"
  },
  "interpreter": {
   "hash": "f76912bb19a6ac44e693330027304ef2c51559af556ebc9ed6379c93719c9cf0"
  }
 },
 "nbformat": 4,
 "nbformat_minor": 2
}